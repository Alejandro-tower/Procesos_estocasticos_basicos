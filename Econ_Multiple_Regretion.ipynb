{
 "cells": [
  {
   "cell_type": "markdown",
   "metadata": {},
   "source": [
    "# Questions"
   ]
  },
  {
   "cell_type": "markdown",
   "metadata": {},
   "source": [
    "This test exercise is of a theoretical nature. In our discussion of the F-test, the total set of explanatory factors was split in two parts. The factors in X1 are always included in the model, whereas those in $X_2$ are possibly removed.\n",
    "\n",
    "In questions (a), (b), and (c) you derive relations between the two OLS estimates of the effects of $X_1$ on y, one in the large model and the other in the small model. In parts (d), (e), and (f), you check the relation of question (c) numerically for the wage data of our lectures.\n",
    "\n",
    "We use the notation of Lecture 2.4.2 and assume that the standard regression assumptions A1-A6 are satisfied for the unrestricted model. The restricted model is obtained by deleting the set of g explanatory factors collected in the last g columns $X2$ of X. We wrote the model with $X = (X_1 X_2)$ and corresponding partitioning of the OLS estimator b in $b_1$ and $b_2$ as $y = X_1β_1 + X_2β_2 + ε = X_1b_1 + X_2b_2 + e$. We denote by $b_R$ the OLS estimator of β1\n",
    "obtained by regressing y on $X_1$, so that $b_R = (X_1'X1)^{−1}X_1'y$. Further, let $P = (X_1'X1)^{−1}X_1'X_2$\n"
   ]
  },
  {
   "cell_type": "markdown",
   "metadata": {},
   "source": [
    "(a) Prove that $E(b_R) = β1 + Pβ2.$\n",
    "\n",
    "(b) Prove that $var(b_R)=\\sigma^2 (X_1'X_1)^{-1}$\n",
    "\n",
    "(c) Prove that $bR = b1 + Pb2$.\n",
    "\n",
    "Now consider the wage data of Lectures 2.1 and 2.5. Let y be log-wage (500×1 vector), and let $X_1$ be the (500×2)\n",
    "matrix for the constant term and the variable ‘Female’. Further let $X_2$ be the (500 × 3) matrix with observations\n",
    "of the variables ‘Age’, ‘Educ’ and ‘Parttime’. The values of $b_R$ were given in Lecture 2.1, and those of $b$ in Lecture\n",
    "2.5.\n",
    "\n",
    "(d) Argue that the columns of the $(2 × 3)$ matrix P are obtained by regressing each of the variables ‘Age’, ‘Educ’,\n",
    "and ‘Parttime’ on a constant term and the variable ‘Female’.\n",
    "\n",
    "(e) Determine the values of P from the results in Lecture 2.1.\n",
    "\n",
    "(f) Check the numerical validity of the result in part (c). Note: This equation will not hold exactly because the\n",
    "coefficients have been rounded to two or three decimals; preciser results would have been obtained for higher\n",
    "precision coefficients."
   ]
  },
  {
   "cell_type": "markdown",
   "metadata": {},
   "source": [
    "(a) Prove that $E(b_R) = \\beta1 + P\\beta_2.$\\\\\n",
    "\\\\\n",
    "(b) Prove that $var(b_R)=\\sigma^2 (X_1'X_1)^{-1}$\\\\\n",
    "\\\\\n",
    "(c) Prove that $b_R = b1 + Pb2$.\\\\\n",
    "\\\\"
   ]
  },
  {
   "cell_type": "code",
   "execution_count": 122,
   "metadata": {},
   "outputs": [],
   "source": [
    "import pandas as pd\n",
    "import numpy as np\n",
    "import matplotlib\n",
    "import matplotlib.pyplot as plt\n",
    "import matplotlib \n",
    "import matplotlib.pyplot as plt\n",
    "import os\n",
    "import statistics\n",
    "\n",
    "path = os.getcwd()\n",
    "train_exercise=os.path.join(path, 'prueba')\n",
    "#os.listdir()"
   ]
  },
  {
   "cell_type": "code",
   "execution_count": 123,
   "metadata": {},
   "outputs": [
    {
     "data": {
      "text/plain": [
       "'C:\\\\Users\\\\hp-Omen 15\\\\Documents\\\\virtual_env\\\\covid\\\\Scripts\\\\Aplied_data_science\\\\prueba'"
      ]
     },
     "execution_count": 123,
     "metadata": {},
     "output_type": "execute_result"
    }
   ],
   "source": [
    "train_exercise"
   ]
  },
  {
   "cell_type": "code",
   "execution_count": 130,
   "metadata": {},
   "outputs": [
    {
     "data": {
      "text/html": [
       "<div>\n",
       "<style scoped>\n",
       "    .dataframe tbody tr th:only-of-type {\n",
       "        vertical-align: middle;\n",
       "    }\n",
       "\n",
       "    .dataframe tbody tr th {\n",
       "        vertical-align: top;\n",
       "    }\n",
       "\n",
       "    .dataframe thead th {\n",
       "        text-align: right;\n",
       "    }\n",
       "</style>\n",
       "<table border=\"1\" class=\"dataframe\">\n",
       "  <thead>\n",
       "    <tr style=\"text-align: right;\">\n",
       "      <th></th>\n",
       "      <th>Observation</th>\n",
       "      <th>Wage</th>\n",
       "      <th>LogWage</th>\n",
       "      <th>Female</th>\n",
       "      <th>Age</th>\n",
       "      <th>Educ</th>\n",
       "      <th>Parttime</th>\n",
       "    </tr>\n",
       "  </thead>\n",
       "  <tbody>\n",
       "    <tr>\n",
       "      <th>497</th>\n",
       "      <td>498</td>\n",
       "      <td>173</td>\n",
       "      <td>5.153292</td>\n",
       "      <td>0</td>\n",
       "      <td>38</td>\n",
       "      <td>4</td>\n",
       "      <td>0</td>\n",
       "    </tr>\n",
       "    <tr>\n",
       "      <th>498</th>\n",
       "      <td>499</td>\n",
       "      <td>154</td>\n",
       "      <td>5.036953</td>\n",
       "      <td>0</td>\n",
       "      <td>27</td>\n",
       "      <td>4</td>\n",
       "      <td>0</td>\n",
       "    </tr>\n",
       "    <tr>\n",
       "      <th>499</th>\n",
       "      <td>500</td>\n",
       "      <td>141</td>\n",
       "      <td>4.948760</td>\n",
       "      <td>0</td>\n",
       "      <td>29</td>\n",
       "      <td>4</td>\n",
       "      <td>0</td>\n",
       "    </tr>\n",
       "  </tbody>\n",
       "</table>\n",
       "</div>"
      ],
      "text/plain": [
       "     Observation  Wage   LogWage  Female  Age  Educ  Parttime\n",
       "497          498   173  5.153292       0   38     4         0\n",
       "498          499   154  5.036953       0   27     4         0\n",
       "499          500   141  4.948760       0   29     4         0"
      ]
     },
     "execution_count": 130,
     "metadata": {},
     "output_type": "execute_result"
    }
   ],
   "source": [
    "Dataset1_path=os.path.join(path, 'TrainExer21.xls' )\n",
    "Dataset1 = pd.read_excel(Dataset1_path)\n",
    "Dataset1.tail(3)"
   ]
  },
  {
   "cell_type": "code",
   "execution_count": null,
   "metadata": {},
   "outputs": [],
   "source": []
  },
  {
   "cell_type": "code",
   "execution_count": 125,
   "metadata": {},
   "outputs": [],
   "source": [
    "def regresion(df,x,y):\n",
    "    b=0\n",
    "    bden=0\n",
    "    bnum=0\n",
    "    bhist=[]\n",
    "    x=df[x]\n",
    "    y=df[y]\n",
    "    for i in range(len(df)):\n",
    "        bden+=(x[i]*(y[i]-y.mean()))\n",
    "        bnum+=(x[i]*(x[i]-x.mean()))\n",
    "    b=bden/bnum\n",
    "\n",
    "    a=(y.mean()-b*x.mean())\n",
    "\n",
    "    def esc(code):\n",
    "        return f'\\033[{code}m'\n",
    "    #print(esc('31;1;4') + \"The value of \\\"a\\\" is \", a,\"\\n\",\"\\n\",\"The value of \\\"b\\\" is \", b)\n",
    "    e_hist=[]\n",
    "    e=0\n",
    "    for i in range(len(df)):\n",
    "        e_hist.append(y[i]-a-b*x[i])\n",
    "        e+=e_hist[i]\n",
    "    #print(esc('31;1;4') + \"The value of global residual \\\"e\\\" is \", e)\n",
    "    return([a,b,e,e_hist])"
   ]
  },
  {
   "cell_type": "code",
   "execution_count": 128,
   "metadata": {},
   "outputs": [
    {
     "data": {
      "text/plain": [
       "[4.733644338226111, -0.2506425317585474, -2.2382096176443156e-13]"
      ]
     },
     "execution_count": 128,
     "metadata": {},
     "output_type": "execute_result"
    }
   ],
   "source": [
    "fem_reg=regresion(Dataset1,'Female','LogWage' )\n",
    "Dataset1['e_Fem']=fem_reg[3]\n",
    "#Dataset1\n",
    "fem_reg[0:3]"
   ]
  },
  {
   "cell_type": "code",
   "execution_count": 129,
   "metadata": {},
   "outputs": [
    {
     "data": {
      "text/plain": [
       "[-0.4526497818548166, 0.21782953890992124, -5.551115123125783e-15]"
      ]
     },
     "execution_count": 129,
     "metadata": {},
     "output_type": "execute_result"
    }
   ],
   "source": [
    "r_educ_on_efm=regresion(Dataset1,'Educ','e_Fem' )\n",
    "r_educ_on_efm[0:3]"
   ]
  },
  {
   "cell_type": "markdown",
   "metadata": {},
   "source": [
    "### Multiple regresion with scikit:"
   ]
  },
  {
   "cell_type": "code",
   "execution_count": 276,
   "metadata": {},
   "outputs": [],
   "source": [
    "#s_fem=Dataset1.Female.values\n",
    "#s_educ=Dataset1.Educ.values\n",
    "#s_age=Dataset1.Age.values\n",
    "#s_ptime=Dataset1.Parttime.values\n",
    "\n",
    "data_wage=Dataset1[['Female','Age','Educ','Parttime']].values\n",
    "s_logw=Dataset1.LogWage.values"
   ]
  },
  {
   "cell_type": "code",
   "execution_count": 277,
   "metadata": {},
   "outputs": [
    {
     "name": "stdout",
     "output_type": "stream",
     "text": [
      "Ofset:  [-0.04010888  0.03068269  0.23148215 -0.36556383]\n",
      "Pendant:  3.0511532254843696\n",
      "Precition:  0.7038627637971012\n"
     ]
    }
   ],
   "source": [
    "X_train, X_test, y_train, y_test= train_test_split(data_wage, s_logw, test_size=0.01)\n",
    "lr_multiple= linear_model.LinearRegression()\n",
    "lr_multiple.fit(X_train, y_train)\n",
    "Y_pred_multiple= lr_multiple.predict(X_test)\n",
    "#print(Y_pred_multiple)\n",
    "print('Ofset: ',lr_multiple.coef_)# obtendremos el valor de b1[1], b2[:]\n",
    "print('Pendant: ',lr_multiple.intercept_) #  obtendremos el valor de b1[0]\n",
    "print('Precition: ',lr_multiple.score(X_train, y_train))"
   ]
  },
  {
   "cell_type": "markdown",
   "metadata": {},
   "source": [
    "### Testing the model"
   ]
  },
  {
   "cell_type": "code",
   "execution_count": 114,
   "metadata": {},
   "outputs": [],
   "source": [
    "P=[regresion(Dataset1,'Female','Age' )[0:2],\n",
    "   regresion(Dataset1,'Female','Educ' )[0:2],\n",
    "   regresion(Dataset1,'Female','Parttime' )[0:2]]"
   ]
  },
  {
   "cell_type": "code",
   "execution_count": 115,
   "metadata": {},
   "outputs": [
    {
     "data": {
      "text/plain": [
       "[[40.0506329113924, -0.11041552008804748],\n",
       " [2.2594936708860764, -0.49318932305999136],\n",
       " [0.19620253164557, 0.2494496422674728]]"
      ]
     },
     "execution_count": 115,
     "metadata": {},
     "output_type": "execute_result"
    }
   ],
   "source": [
    "P"
   ]
  },
  {
   "cell_type": "code",
   "execution_count": 119,
   "metadata": {},
   "outputs": [],
   "source": [
    "b1= [3.053,-0.041]\n",
    "b2= [0.031,0.233, -0.365]"
   ]
  },
  {
   "cell_type": "code",
   "execution_count": 120,
   "metadata": {},
   "outputs": [
    {
     "data": {
      "text/plain": [
       "4.749417721518987"
      ]
     },
     "execution_count": 120,
     "metadata": {},
     "output_type": "execute_result"
    }
   ],
   "source": [
    "b1[0]+list(np.dot(b2,P))[0]"
   ]
  },
  {
   "cell_type": "code",
   "execution_count": 121,
   "metadata": {},
   "outputs": [
    {
     "data": {
      "text/plain": [
       "-0.25038511282333503"
      ]
     },
     "execution_count": 121,
     "metadata": {},
     "output_type": "execute_result"
    }
   ],
   "source": [
    "b1[1]+list(np.dot(b2,P))[1]"
   ]
  },
  {
   "cell_type": "markdown",
   "metadata": {},
   "source": [
    "## Linear Regresión with SciKit"
   ]
  },
  {
   "cell_type": "code",
   "execution_count": 136,
   "metadata": {},
   "outputs": [
    {
     "name": "stdout",
     "output_type": "stream",
     "text": [
      "dict_keys(['data', 'target', 'feature_names', 'DESCR', 'filename'])\n"
     ]
    }
   ],
   "source": [
    "from sklearn import datasets, linear_model\n",
    "boston=datasets.load_boston()\n",
    "print(boston.keys())"
   ]
  },
  {
   "cell_type": "code",
   "execution_count": 141,
   "metadata": {
    "collapsed": true,
    "jupyter": {
     "outputs_hidden": true
    }
   },
   "outputs": [
    {
     "name": "stdout",
     "output_type": "stream",
     "text": [
      ".. _boston_dataset:\n",
      "\n",
      "Boston house prices dataset\n",
      "---------------------------\n",
      "\n",
      "**Data Set Characteristics:**  \n",
      "\n",
      "    :Number of Instances: 506 \n",
      "\n",
      "    :Number of Attributes: 13 numeric/categorical predictive. Median Value (attribute 14) is usually the target.\n",
      "\n",
      "    :Attribute Information (in order):\n",
      "        - CRIM     per capita crime rate by town\n",
      "        - ZN       proportion of residential land zoned for lots over 25,000 sq.ft.\n",
      "        - INDUS    proportion of non-retail business acres per town\n",
      "        - CHAS     Charles River dummy variable (= 1 if tract bounds river; 0 otherwise)\n",
      "        - NOX      nitric oxides concentration (parts per 10 million)\n",
      "        - RM       average number of rooms per dwelling\n",
      "        - AGE      proportion of owner-occupied units built prior to 1940\n",
      "        - DIS      weighted distances to five Boston employment centres\n",
      "        - RAD      index of accessibility to radial highways\n",
      "        - TAX      full-value property-tax rate per $10,000\n",
      "        - PTRATIO  pupil-teacher ratio by town\n",
      "        - B        1000(Bk - 0.63)^2 where Bk is the proportion of blacks by town\n",
      "        - LSTAT    % lower status of the population\n",
      "        - MEDV     Median value of owner-occupied homes in $1000's\n",
      "\n",
      "    :Missing Attribute Values: None\n",
      "\n",
      "    :Creator: Harrison, D. and Rubinfeld, D.L.\n",
      "\n",
      "This is a copy of UCI ML housing dataset.\n",
      "https://archive.ics.uci.edu/ml/machine-learning-databases/housing/\n",
      "\n",
      "\n",
      "This dataset was taken from the StatLib library which is maintained at Carnegie Mellon University.\n",
      "\n",
      "The Boston house-price data of Harrison, D. and Rubinfeld, D.L. 'Hedonic\n",
      "prices and the demand for clean air', J. Environ. Economics & Management,\n",
      "vol.5, 81-102, 1978.   Used in Belsley, Kuh & Welsch, 'Regression diagnostics\n",
      "...', Wiley, 1980.   N.B. Various transformations are used in the table on\n",
      "pages 244-261 of the latter.\n",
      "\n",
      "The Boston house-price data has been used in many machine learning papers that address regression\n",
      "problems.   \n",
      "     \n",
      ".. topic:: References\n",
      "\n",
      "   - Belsley, Kuh & Welsch, 'Regression diagnostics: Identifying Influential Data and Sources of Collinearity', Wiley, 1980. 244-261.\n",
      "   - Quinlan,R. (1993). Combining Instance-Based and Model-Based Learning. In Proceedings on the Tenth International Conference of Machine Learning, 236-243, University of Massachusetts, Amherst. Morgan Kaufmann.\n",
      "\n"
     ]
    }
   ],
   "source": [
    "print(boston.DESCR)"
   ]
  },
  {
   "cell_type": "code",
   "execution_count": 144,
   "metadata": {},
   "outputs": [
    {
     "data": {
      "text/plain": [
       "array([[ 6.575 , 65.2   ,  4.09  ],\n",
       "       [ 6.421 , 78.9   ,  4.9671],\n",
       "       [ 7.185 , 61.1   ,  4.9671],\n",
       "       ...,\n",
       "       [ 6.976 , 91.    ,  2.1675],\n",
       "       [ 6.794 , 89.3   ,  2.3889],\n",
       "       [ 6.03  , 80.8   ,  2.505 ]])"
      ]
     },
     "execution_count": 144,
     "metadata": {},
     "output_type": "execute_result"
    }
   ],
   "source": [
    "y_multiple=boston.target\n",
    "X_multiple=boston.data[:,5:8]\n",
    "X_multiple"
   ]
  },
  {
   "cell_type": "code",
   "execution_count": 161,
   "metadata": {},
   "outputs": [],
   "source": [
    "from sklearn.model_selection import train_test_split\n",
    "X_train, X_test, y_train, y_test= train_test_split(X_multiple, y_multiple, test_size=0.2)"
   ]
  },
  {
   "cell_type": "code",
   "execution_count": 188,
   "metadata": {},
   "outputs": [
    {
     "name": "stdout",
     "output_type": "stream",
     "text": [
      "Ofset:  [ 8.43732272 -0.10963969 -0.53161225]\n",
      "Pendant:  -21.039193630491877\n",
      "Precition:  0.5374835450608988\n"
     ]
    }
   ],
   "source": [
    "X_train, X_test, y_train, y_test= train_test_split(X_multiple, y_multiple, test_size=0.2)\n",
    "lr_multiple= linear_model.LinearRegression()\n",
    "lr_multiple.fit(X_train, y_train)\n",
    "Y_pred_multiple= lr_multiple.predict(X_test)\n",
    "#print(Y_pred_multiple)\n",
    "print('Ofset: ',lr_multiple.coef_)\n",
    "print('Pendant: ',lr_multiple.intercept_)\n",
    "print('Precition: ',lr_multiple.score(X_train, y_train))"
   ]
  }
 ],
 "metadata": {
  "kernelspec": {
   "display_name": "Python 3",
   "language": "python",
   "name": "python3"
  },
  "language_info": {
   "codemirror_mode": {
    "name": "ipython",
    "version": 3
   },
   "file_extension": ".py",
   "mimetype": "text/x-python",
   "name": "python",
   "nbconvert_exporter": "python",
   "pygments_lexer": "ipython3",
   "version": "3.7.6"
  }
 },
 "nbformat": 4,
 "nbformat_minor": 4
}
