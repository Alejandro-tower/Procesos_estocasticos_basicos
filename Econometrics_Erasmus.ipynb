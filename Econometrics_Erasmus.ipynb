{
 "cells": [
  {
   "cell_type": "code",
   "execution_count": 1,
   "metadata": {},
   "outputs": [],
   "source": [
    "import pandas as pd\n",
    "import numpy as np\n",
    "import matplotlib\n",
    "import matplotlib.pyplot as plt\n",
    "import os"
   ]
  },
  {
   "cell_type": "markdown",
   "metadata": {},
   "source": [
    "### Questions\n",
    "A transformation of the data on xi and yi (like taking their logarithm) changes the interpretation of the slope\n",
    "parameter β.\n",
    "\n",
    "(a) Show that in the regression model $log(y_i) = α + β \\cdot log(x_i) + ε_i$\n",
    ", the elasticity of y with respect to $x$ is equal to $β$ (that is, does not depend on the values of $x_i$ and $y_i$).\n",
    "\n",
    "$e(log(y_i)) = e(α + β log(x_i) + ε_i) $\n",
    "\n",
    "(b) Determine the elasticity of y with respect to x in the model yi = α + β log(xi) + εi\n",
    ".\n",
    "\n",
    "(c) Determine the elasticity of y with respect to x in the model log(yi) = α + βxi + εi\n",
    "."
   ]
  },
  {
   "cell_type": "markdown",
   "metadata": {},
   "source": [
    "### Answer"
   ]
  },
  {
   "cell_type": "markdown",
   "metadata": {},
   "source": [
    "### Answer A); aplying the exp function to the regression model: $e(log(y_i))= e(α + β log(x_i) + ε_i)\n",
    "\\implies y_i =x_i^β  e^{α +  ε_i} $\n",
    "\n",
    "If the elasticity is defined as: $\\dfrac{dy/y}{dx/x} \\implies \\dfrac{dy}{dx}\\dfrac{x}{y}=\n",
    "\\dfrac{d x_i^β  e^{α +  ε_i}}{dx} \\dfrac{x}{y}=$\n",
    "\n",
    "$β \\cdot x_i^{β-1}  e^{α +  ε_i}\\dfrac{x}{y}  \\ \\   \\ \\ \\implies \n",
    "\\dfrac{x_i}{x_i} β \\cdot x_i^{β-1}  e^{α +  ε_i}\\dfrac{x}{y} \\ \\   \\ \\ \\implies\n",
    "\\dfrac{β}{x_i}  \\cdot x_i^{β}  e^{α +  ε_i}\\dfrac{x}{y}  \\ \\   \\ \\  \\implies\n",
    "\\dfrac{β \\cdot y_i}{x_i}  \\cdot \\dfrac{x}{y} \\cong \\dfrac{β \\cdot y}{x}  \\cdot \\dfrac{x}{y} \\cong β$\n",
    "\n",
    "### Answer B); using the regression model as: $y_i= α + β log(x_i) + ε_i  $\n",
    "\n",
    "Substituting in the elasticity is defined as: $\\dfrac{dy/y}{dx/x} \\implies \\dfrac{dy}{dx}\\dfrac{x}{y}=\n",
    "\\dfrac{d [α + log(x_i^β) + ε_i] }{dx} \\dfrac{x}{y}=$\n",
    "\n",
    "\n",
    "$ \\dfrac{β}{x_i} \\dfrac{x}{y} \\ \\   \\ \\  \\cong \\dfrac{β \\cdot x_i}{x_i \\cdot y_i} \\cong \\dfrac{β }{y_i}$\n",
    "\n",
    "### Answer C); using the exp function to the regression model: $log(y_i)= α + β x_i + ε_i \\implies y_i=e^{ α + β x_i + ε_i  }$\n",
    "\n",
    "If the elasticity is defined as: $\\dfrac{dy/y}{dx/x} \\implies \\dfrac{dy}{dx}\\dfrac{x}{y}=\n",
    "\\dfrac{d e^{ α + β x_i + ε_i  }}{dx} \\dfrac{x}{y}=$\n",
    "\n",
    "\n",
    "$ β e^{ α + β x_i + ε_i  } \\dfrac{x}{y} \\ \\   \\ \\  \\cong  β y_i \\dfrac{x_i}{y_i} \\cong βx_i$"
   ]
  },
  {
   "cell_type": "markdown",
   "metadata": {},
   "source": [
    "# Test week 1"
   ]
  },
  {
   "cell_type": "markdown",
   "metadata": {},
   "source": [
    "### Description variables:\n",
    "Simulated data set on weekly sales and advertising of a department store.\n",
    "\n",
    "\\*** Advertising: index of advertising efforts in current and previous week\n",
    "\n",
    "\\*** Sales: sales volume in current week "
   ]
  },
  {
   "cell_type": "markdown",
   "metadata": {},
   "source": [
    "### Questions\n",
    "This exercise considers an example of data that do not satisfy all the standard assumptions of simple regression.\n",
    "In the considered case, one particular observation lies far off from the others, that is, it is an outlier. This violates\n",
    "assumptions A3 and A4, which state that all error terms εi are drawn from one and the same distribution with\n",
    "mean zero and fixed variance $σ^2$\n",
    "\n",
    ". The dataset contains twenty weekly observations on sales and advertising of a\n",
    "department store. The question of interest lies in estimating the effect of advertising on sales. One of the weeks\n",
    "was special, as the store was also open in the evenings during this week, but this aspect will first be ignored in the\n",
    "analysis.\n",
    "\n",
    "(a) Make the scatter diagram with sales on the vertical axis and advertising on the horizontal axis. What do you\n",
    "expect to find if you would fit a regression line to these data?\n",
    "\n",
    "(b) Estimate the coefficients a and b in the simple regression model with sales as dependent variable and advertising\n",
    "as explanatory factor. Also compute the standard error and t-value of b. Is b significantly different from 0?\n",
    "\n",
    "(c) Compute the residuals and draw a histogram of these residuals. What conclusion do you draw from this\n",
    "histogram?\n",
    "\n",
    "(d) Apparently, the regression result of part (b) is not satisfactory. Once you realize that the large residual\n",
    "corresponds to the week with opening hours during the evening, how would you proceed to get a more\n",
    "satisfactory regression model?\n",
    "\n",
    "(e) Delete this special week from the sample and use the remaining 19 weeks to estimate the coefficients a and\n",
    "b in the simple regression model with sales as dependent variable and advertising as explanatory factor. Also\n",
    "compute the standard error and t-value of b. Is b significantly different from 0?\n",
    "\n",
    "(f) Discuss the differences between your findings in parts (b) and (e). Describe in words what you have learned\n",
    "from these results."
   ]
  },
  {
   "cell_type": "code",
   "execution_count": 11,
   "metadata": {},
   "outputs": [
    {
     "data": {
      "text/plain": [
       "[' Plotting_matplotlib.ipynb',\n",
       " '.ipynb_checkpoints',\n",
       " '2015.png',\n",
       " 'Assignment2.ipynb',\n",
       " 'Calculo_integral - Jupyter Notebook.pdf',\n",
       " 'Calculo_integral_vertical.pdf',\n",
       " 'Covid_misleads.ipynb',\n",
       " 'Dataset1.xls',\n",
       " 'data_weather.csv',\n",
       " 'downloaded.csv',\n",
       " 'Econometrics_Erasmus.ipynb',\n",
       " 'exercise2_B.PNG',\n",
       " 'exercise2_C.PNG',\n",
       " 'exercize2.png',\n",
       " 'test.png',\n",
       " 'TestExer-1-sales-round1.xls',\n",
       " 'test_week2.ipynb',\n",
       " 'test_week2.py',\n",
       " 'TrainExer11.xls',\n",
       " 'Week3.ipynb']"
      ]
     },
     "execution_count": 11,
     "metadata": {},
     "output_type": "execute_result"
    }
   ],
   "source": [
    "path = os.getcwd()\n",
    "train_exercise=os.path.join(path, 'prueba')\n",
    "os.listdir()"
   ]
  },
  {
   "cell_type": "code",
   "execution_count": 15,
   "metadata": {},
   "outputs": [
    {
     "name": "stdout",
     "output_type": "stream",
     "text": [
      "C:\\Users\\hp-Omen 15\\Documents\\virtual_env\\covid\\Scripts\\Aplied_data_science\\TestExer-1-sales-round1.xls \n",
      " C:\\Users\\hp-Omen 15\\Documents\\virtual_env\\covid\\Scripts\\Aplied_data_science\\Assignment2.ipynb\n"
     ]
    }
   ],
   "source": [
    "Dataset1_path=os.path.join(path, 'TestExer-1-sales-round1.xls' )\n",
    "TrainExer11_path=os.path.join(path, os.listdir()[3] )\n",
    "print(Dataset1_path,'\\n',TrainExer11_path)"
   ]
  },
  {
   "cell_type": "code",
   "execution_count": 16,
   "metadata": {},
   "outputs": [
    {
     "data": {
      "text/html": [
       "<div>\n",
       "<style scoped>\n",
       "    .dataframe tbody tr th:only-of-type {\n",
       "        vertical-align: middle;\n",
       "    }\n",
       "\n",
       "    .dataframe tbody tr th {\n",
       "        vertical-align: top;\n",
       "    }\n",
       "\n",
       "    .dataframe thead th {\n",
       "        text-align: right;\n",
       "    }\n",
       "</style>\n",
       "<table border=\"1\" class=\"dataframe\">\n",
       "  <thead>\n",
       "    <tr style=\"text-align: right;\">\n",
       "      <th></th>\n",
       "      <th>Observation</th>\n",
       "      <th>Advertising</th>\n",
       "      <th>Sales</th>\n",
       "    </tr>\n",
       "  </thead>\n",
       "  <tbody>\n",
       "    <tr>\n",
       "      <th>0</th>\n",
       "      <td>1</td>\n",
       "      <td>12</td>\n",
       "      <td>24</td>\n",
       "    </tr>\n",
       "    <tr>\n",
       "      <th>1</th>\n",
       "      <td>2</td>\n",
       "      <td>12</td>\n",
       "      <td>27</td>\n",
       "    </tr>\n",
       "    <tr>\n",
       "      <th>2</th>\n",
       "      <td>3</td>\n",
       "      <td>9</td>\n",
       "      <td>25</td>\n",
       "    </tr>\n",
       "    <tr>\n",
       "      <th>3</th>\n",
       "      <td>4</td>\n",
       "      <td>11</td>\n",
       "      <td>27</td>\n",
       "    </tr>\n",
       "    <tr>\n",
       "      <th>4</th>\n",
       "      <td>5</td>\n",
       "      <td>6</td>\n",
       "      <td>23</td>\n",
       "    </tr>\n",
       "  </tbody>\n",
       "</table>\n",
       "</div>"
      ],
      "text/plain": [
       "   Observation  Advertising  Sales\n",
       "0            1           12     24\n",
       "1            2           12     27\n",
       "2            3            9     25\n",
       "3            4           11     27\n",
       "4            5            6     23"
      ]
     },
     "execution_count": 16,
     "metadata": {},
     "output_type": "execute_result"
    }
   ],
   "source": [
    "Dataset1 = pd.read_excel(Dataset1_path)\n",
    "\n",
    "Dataset1.head()"
   ]
  },
  {
   "cell_type": "code",
   "execution_count": null,
   "metadata": {},
   "outputs": [],
   "source": []
  }
 ],
 "metadata": {
  "kernelspec": {
   "display_name": "Python 3",
   "language": "python",
   "name": "python3"
  },
  "language_info": {
   "codemirror_mode": {
    "name": "ipython",
    "version": 3
   },
   "file_extension": ".py",
   "mimetype": "text/x-python",
   "name": "python",
   "nbconvert_exporter": "python",
   "pygments_lexer": "ipython3",
   "version": "3.7.6"
  }
 },
 "nbformat": 4,
 "nbformat_minor": 4
}
