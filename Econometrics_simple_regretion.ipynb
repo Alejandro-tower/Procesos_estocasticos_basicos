{
 "cells": [
  {
   "cell_type": "markdown",
   "metadata": {},
   "source": [
    "# Test week 1"
   ]
  },
  {
   "cell_type": "code",
   "execution_count": null,
   "metadata": {},
   "outputs": [],
   "source": []
  },
  {
   "cell_type": "markdown",
   "metadata": {},
   "source": [
    "### Description variables:\n",
    "Simulated data set on weekly sales and advertising of a department store.\n",
    "\n",
    "\\*** Advertising: index of advertising efforts in current and previous week\n",
    "\n",
    "\\*** Sales: sales volume in current week "
   ]
  },
  {
   "cell_type": "markdown",
   "metadata": {},
   "source": [
    "### Questions\n",
    "This exercise considers an example of data that do not satisfy all the standard assumptions of simple regression.\n",
    "In the considered case, one particular observation lies far off from the others, that is, it is an outlier. This violates\n",
    "assumptions A3 and A4, which state that all error terms εi are drawn from one and the same distribution with\n",
    "mean zero and fixed variance $σ^2$\n",
    "\n",
    ". The dataset contains twenty weekly observations on sales and advertising of a\n",
    "department store. The question of interest lies in estimating the effect of advertising on sales. One of the weeks\n",
    "was special, as the store was also open in the evenings during this week, but this aspect will first be ignored in the\n",
    "analysis.\n",
    "\n",
    "(a) Make the scatter diagram with sales on the vertical axis and advertising on the horizontal axis. What do you\n",
    "expect to find if you would fit a regression line to these data?\n",
    "\n",
    "(b) Estimate the coefficients a and b in the simple regression model with sales as dependent variable and advertising\n",
    "as explanatory factor. Also compute the standard error and t-value of b. Is b significantly different from 0?\n",
    "\n",
    "(c) Compute the residuals and draw a histogram of these residuals. What conclusion do you draw from this\n",
    "histogram?\n",
    "\n",
    "(d) Apparently, the regression result of part (b) is not satisfactory. Once you realize that the large residual\n",
    "corresponds to the week with opening hours during the evening, how would you proceed to get a more\n",
    "satisfactory regression model?\n",
    "\n",
    "(e) Delete this special week from the sample and use the remaining 19 weeks to estimate the coefficients a and\n",
    "b in the simple regression model with sales as dependent variable and advertising as explanatory factor. Also\n",
    "compute the standard error and t-value of b. Is b significantly different from 0?\n",
    "\n",
    "(f) Discuss the differences between your findings in parts (b) and (e). Describe in words what you have learned\n",
    "from these results."
   ]
  },
  {
   "cell_type": "code",
   "execution_count": 1,
   "metadata": {},
   "outputs": [],
   "source": [
    "import pandas as pd\n",
    "import numpy as np\n",
    "import matplotlib\n",
    "import matplotlib.pyplot as plt\n",
    "import matplotlib \n",
    "import matplotlib.pyplot as plt\n",
    "import os\n",
    "path = os.getcwd()\n",
    "train_exercise=os.path.join(path, 'prueba')\n",
    "#os.listdir()"
   ]
  },
  {
   "cell_type": "code",
   "execution_count": 142,
   "metadata": {},
   "outputs": [],
   "source": [
    "Dataset1_path=os.path.join(path, 'TestExer-1-sales-round1.xls' )\n",
    "#TrainExer11_path=os.path.join(path, os.listdir()[3] )\n",
    "#print(Dataset1_path)#,'\\n',TrainExer11_path)"
   ]
  },
  {
   "cell_type": "code",
   "execution_count": 62,
   "metadata": {},
   "outputs": [
    {
     "data": {
      "text/html": [
       "<div>\n",
       "<style scoped>\n",
       "    .dataframe tbody tr th:only-of-type {\n",
       "        vertical-align: middle;\n",
       "    }\n",
       "\n",
       "    .dataframe tbody tr th {\n",
       "        vertical-align: top;\n",
       "    }\n",
       "\n",
       "    .dataframe thead th {\n",
       "        text-align: right;\n",
       "    }\n",
       "</style>\n",
       "<table border=\"1\" class=\"dataframe\">\n",
       "  <thead>\n",
       "    <tr style=\"text-align: right;\">\n",
       "      <th></th>\n",
       "      <th>Observation</th>\n",
       "      <th>Advertising</th>\n",
       "      <th>Sales</th>\n",
       "    </tr>\n",
       "  </thead>\n",
       "  <tbody>\n",
       "    <tr>\n",
       "      <th>0</th>\n",
       "      <td>1</td>\n",
       "      <td>12</td>\n",
       "      <td>24</td>\n",
       "    </tr>\n",
       "    <tr>\n",
       "      <th>1</th>\n",
       "      <td>2</td>\n",
       "      <td>12</td>\n",
       "      <td>27</td>\n",
       "    </tr>\n",
       "    <tr>\n",
       "      <th>2</th>\n",
       "      <td>3</td>\n",
       "      <td>9</td>\n",
       "      <td>25</td>\n",
       "    </tr>\n",
       "    <tr>\n",
       "      <th>3</th>\n",
       "      <td>4</td>\n",
       "      <td>11</td>\n",
       "      <td>27</td>\n",
       "    </tr>\n",
       "    <tr>\n",
       "      <th>4</th>\n",
       "      <td>5</td>\n",
       "      <td>6</td>\n",
       "      <td>23</td>\n",
       "    </tr>\n",
       "    <tr>\n",
       "      <th>5</th>\n",
       "      <td>6</td>\n",
       "      <td>9</td>\n",
       "      <td>25</td>\n",
       "    </tr>\n",
       "    <tr>\n",
       "      <th>6</th>\n",
       "      <td>7</td>\n",
       "      <td>15</td>\n",
       "      <td>27</td>\n",
       "    </tr>\n",
       "    <tr>\n",
       "      <th>7</th>\n",
       "      <td>8</td>\n",
       "      <td>6</td>\n",
       "      <td>25</td>\n",
       "    </tr>\n",
       "    <tr>\n",
       "      <th>8</th>\n",
       "      <td>9</td>\n",
       "      <td>11</td>\n",
       "      <td>26</td>\n",
       "    </tr>\n",
       "    <tr>\n",
       "      <th>9</th>\n",
       "      <td>10</td>\n",
       "      <td>16</td>\n",
       "      <td>27</td>\n",
       "    </tr>\n",
       "    <tr>\n",
       "      <th>10</th>\n",
       "      <td>11</td>\n",
       "      <td>11</td>\n",
       "      <td>25</td>\n",
       "    </tr>\n",
       "    <tr>\n",
       "      <th>11</th>\n",
       "      <td>12</td>\n",
       "      <td>6</td>\n",
       "      <td>50</td>\n",
       "    </tr>\n",
       "    <tr>\n",
       "      <th>12</th>\n",
       "      <td>13</td>\n",
       "      <td>13</td>\n",
       "      <td>26</td>\n",
       "    </tr>\n",
       "    <tr>\n",
       "      <th>13</th>\n",
       "      <td>14</td>\n",
       "      <td>11</td>\n",
       "      <td>23</td>\n",
       "    </tr>\n",
       "    <tr>\n",
       "      <th>14</th>\n",
       "      <td>15</td>\n",
       "      <td>13</td>\n",
       "      <td>26</td>\n",
       "    </tr>\n",
       "    <tr>\n",
       "      <th>15</th>\n",
       "      <td>16</td>\n",
       "      <td>7</td>\n",
       "      <td>23</td>\n",
       "    </tr>\n",
       "    <tr>\n",
       "      <th>16</th>\n",
       "      <td>17</td>\n",
       "      <td>8</td>\n",
       "      <td>23</td>\n",
       "    </tr>\n",
       "    <tr>\n",
       "      <th>17</th>\n",
       "      <td>18</td>\n",
       "      <td>8</td>\n",
       "      <td>24</td>\n",
       "    </tr>\n",
       "    <tr>\n",
       "      <th>18</th>\n",
       "      <td>19</td>\n",
       "      <td>12</td>\n",
       "      <td>26</td>\n",
       "    </tr>\n",
       "    <tr>\n",
       "      <th>19</th>\n",
       "      <td>20</td>\n",
       "      <td>9</td>\n",
       "      <td>24</td>\n",
       "    </tr>\n",
       "  </tbody>\n",
       "</table>\n",
       "</div>"
      ],
      "text/plain": [
       "    Observation  Advertising  Sales\n",
       "0             1           12     24\n",
       "1             2           12     27\n",
       "2             3            9     25\n",
       "3             4           11     27\n",
       "4             5            6     23\n",
       "5             6            9     25\n",
       "6             7           15     27\n",
       "7             8            6     25\n",
       "8             9           11     26\n",
       "9            10           16     27\n",
       "10           11           11     25\n",
       "11           12            6     50\n",
       "12           13           13     26\n",
       "13           14           11     23\n",
       "14           15           13     26\n",
       "15           16            7     23\n",
       "16           17            8     23\n",
       "17           18            8     24\n",
       "18           19           12     26\n",
       "19           20            9     24"
      ]
     },
     "execution_count": 62,
     "metadata": {},
     "output_type": "execute_result"
    }
   ],
   "source": [
    "Dataset1 = pd.read_excel(Dataset1_path)\n",
    "Dataset1"
   ]
  },
  {
   "cell_type": "markdown",
   "metadata": {},
   "source": [
    "### (a) Make the scatter diagram with sales on the vertical axis and advertising on the horizontal axis. What do you expect to find if you would fit a regression line to these data?\n",
    "Normally we expect a increasing slope of b, but there is a Value of 50, who create the inverse sign for b."
   ]
  },
  {
   "cell_type": "code",
   "execution_count": 6,
   "metadata": {},
   "outputs": [
    {
     "data": {
      "text/plain": [
       "Text(0, 0.5, 'Sales')"
      ]
     },
     "execution_count": 6,
     "metadata": {},
     "output_type": "execute_result"
    },
    {
     "data": {
      "image/png": "[encoded data removed]",
      "text/plain": [
       "<Figure size 864x360 with 1 Axes>"
      ]
     },
     "metadata": {
      "needs_background": "light"
     },
     "output_type": "display_data"
    }
   ],
   "source": [
    "# Scatter plot}\n",
    "fig = plt.figure(figsize=(12,5)) # set fig with its size 10 x 10 inch\n",
    "plt.scatter(Dataset1[\"Advertising\"],Dataset1['Sales'])\n",
    "plt.xlabel('Advertising', fontsize=15)\n",
    "plt.ylabel('Sales', fontsize=15)"
   ]
  },
  {
   "cell_type": "markdown",
   "metadata": {},
   "source": [
    "### (b) Estimate the coefficients a and b in the simple regression model with sales as dependent variable and advertising as explanatory factor. Also compute the standard error and t-value of b. Is b significantly different from 0?\n",
    "I put the code and results below, the slope of b is almost Zero, but decreasing with linear regretion."
   ]
  },
  {
   "cell_type": "code",
   "execution_count": 139,
   "metadata": {},
   "outputs": [
    {
     "name": "stdout",
     "output_type": "stream",
     "text": [
      "\u001b[31;1;4mThe value of \"a\" is  29.626893353941277 \n",
      " \n",
      " The value of \"b\" is  -0.3245749613601246\n",
      "\u001b[31;1;4mThe value of global residual \"e\" is  4.440892098500626e-16\n"
     ]
    }
   ],
   "source": [
    "b=0\n",
    "bden=0\n",
    "bnum=0\n",
    "bhist=[]\n",
    "x=Dataset1[\"Advertising\"]\n",
    "y=Dataset1[\"Sales\"]\n",
    "for i in range(len(Dataset1)):\n",
    "    bden+=(x[i]*(y[i]-y.mean()))\n",
    "    bnum+=(x[i]*(x[i]-x.mean()))\n",
    "b=bden/bnum\n",
    "\n",
    "a=(y.mean()-b*x.mean())\n",
    "\n",
    "def esc(code):\n",
    "    return f'\\033[{code}m'\n",
    "print(esc('31;1;4') + \"The value of \\\"a\\\" is \", a,\"\\n\",\"\\n\",\"The value of \\\"b\\\" is \", b)\n",
    "e_hist=[]\n",
    "e=0\n",
    "for i in range(len(Dataset1)):\n",
    "    e_hist.append(y[i]-a-b*x[i])\n",
    "    e+=e_hist[i]\n",
    "print(esc('31;1;4') + \"The value of global residual \\\"e\\\" is \", e)"
   ]
  },
  {
   "cell_type": "markdown",
   "metadata": {},
   "source": [
    "### (c) Compute the residuals and draw a histogram of these residuals. What conclusion do you draw from this histogram?\n",
    "The model does not fit with the data, the interval of error are wider than the values itself."
   ]
  },
  {
   "cell_type": "code",
   "execution_count": 140,
   "metadata": {},
   "outputs": [
    {
     "data": {
      "text/plain": [
       "(array([7., 4., 6., 2., 0., 0., 0., 0., 0., 0., 0., 1.]),\n",
       " array([-4.67944359, -2.42944359, -0.17944359,  2.07055641,  4.32055641,\n",
       "         6.57055641,  8.82055641, 11.07055641, 13.32055641, 15.57055641,\n",
       "        17.82055641, 20.07055641, 22.32055641]),\n",
       " <a list of 12 Patch objects>)"
      ]
     },
     "execution_count": 140,
     "metadata": {},
     "output_type": "execute_result"
    },
    {
     "data": {
      "image/png": "[encoded data removed]",
      "text/plain": [
       "<Figure size 864x360 with 1 Axes>"
      ]
     },
     "metadata": {
      "needs_background": "light"
     },
     "output_type": "display_data"
    }
   ],
   "source": [
    "plt.figure(figsize=(12,5))\n",
    "plt.hist(e_hist,12)"
   ]
  },
  {
   "cell_type": "markdown",
   "metadata": {},
   "source": [
    "### (d) Apparently, the regression result of part (b) is not satisfactory. Once you realize that the large residual corresponds to the week with opening hours during the evening, how would you proceed to get a more satisfactory regression model?\n",
    "\n"
   ]
  },
  {
   "cell_type": "markdown",
   "metadata": {},
   "source": [
    "#### R:  I will threat that data as a outlayer, an take of from the acounting for a,b."
   ]
  },
  {
   "cell_type": "markdown",
   "metadata": {},
   "source": [
    "### (e) Delete this special week from the sample and use the remaining 19 weeks to estimate the coefficients a and b in the simple regression model with sales as dependent variable and advertising as explanatory factor. Also compute the standard error and t-value of b. Is b significantly different from 0?.\n",
    "The value of b will not be veri diferent form zero, but it will increase alongside the absise axis."
   ]
  },
  {
   "cell_type": "code",
   "execution_count": 94,
   "metadata": {},
   "outputs": [],
   "source": [
    "Dataset2=Dataset1[Dataset1.index!=11] ## A new data set removing the row we don´t need\n",
    "Dataset2=Dataset2.reset_index(drop=True)"
   ]
  },
  {
   "cell_type": "code",
   "execution_count": 95,
   "metadata": {},
   "outputs": [
    {
     "data": {
      "text/plain": [
       "26"
      ]
     },
     "execution_count": 95,
     "metadata": {},
     "output_type": "execute_result"
    }
   ],
   "source": [
    "Dataset2['Sales'][11]"
   ]
  },
  {
   "cell_type": "code",
   "execution_count": 99,
   "metadata": {},
   "outputs": [
    {
     "name": "stdout",
     "output_type": "stream",
     "text": [
      "\u001b[31;1;4mThe value of \"a\" is  21.12500000000003 \n",
      " \n",
      " The value of \"b\" is  0.37499999999999756\n",
      "\u001b[31;1;4mThe value of residual \"e\" is  -5.417888360170764e-14\n"
     ]
    }
   ],
   "source": [
    "b2=0\n",
    "bden2=0\n",
    "bnum2=0\n",
    "bhist2=[]\n",
    "x2=Dataset2[\"Advertising\"]\n",
    "y2=Dataset2[\"Sales\"]\n",
    "for i in range(len(Dataset2)):\n",
    "    bden2+=(x2[i]*(y2[i]-y2.mean()))\n",
    "    bnum2+=(x2[i]*(x2[i]-x2.mean()))\n",
    "b2=bden2/bnum2\n",
    "\n",
    "a2=(y2.mean()-b2*x2.mean())\n",
    "e_hist2=[]\n",
    "e2=0\n",
    "for i in range(len(Dataset2)):\n",
    "    e_hist2.append(y2[i]-a2-b2*x2[i])\n",
    "    e2+=e_hist2[i]\n",
    "print(esc('31;1;4') + \"The value of \\\"a\\\" is \", a2,\"\\n\",\"\\n\",\"The value of \\\"b\\\" is \", b2)\n",
    "print(esc('31;1;4') + \"The value of residual \\\"e\\\" is \", e2)"
   ]
  },
  {
   "cell_type": "code",
   "execution_count": 100,
   "metadata": {},
   "outputs": [
    {
     "data": {
      "text/plain": [
       "<matplotlib.collections.PathCollection at 0x1af7ce0e388>"
      ]
     },
     "execution_count": 100,
     "metadata": {},
     "output_type": "execute_result"
    },
    {
     "data": {
      "image/png": "[encoded data removed]",
      "text/plain": [
       "<Figure size 864x360 with 1 Axes>"
      ]
     },
     "metadata": {
      "needs_background": "light"
     },
     "output_type": "display_data"
    }
   ],
   "source": [
    "plt.figure(figsize=(12,5))\n",
    "plt.scatter(x2,e_hist2)"
   ]
  },
  {
   "cell_type": "markdown",
   "metadata": {},
   "source": [
    "### (f) Discuss the differences between your findings in parts (b) and (e). Describe in words what you have learned from these results"
   ]
  },
  {
   "cell_type": "markdown",
   "metadata": {},
   "source": [
    "The point that has a great difference in the values, impact in the calculation of the slope \"b\" and \"a\" offset values, so it change the high of the a, changing the slope. And the residual are distribuited betwen all the vales, creating a great divergence, a great amount of values of each residual.\n",
    "When we only compare the values that are represented by the linear regretion, we solve the problems before and minimize the values of each residual.\n",
    "We can see the folowing figures that the higher value of 50, creates a bad model, creating decreasing slopes."
   ]
  },
  {
   "cell_type": "code",
   "execution_count": 126,
   "metadata": {},
   "outputs": [
    {
     "data": {
      "text/plain": [
       "Text(0.5, 1.0, 'Linear Model with outlayer value of 50')"
      ]
     },
     "execution_count": 126,
     "metadata": {},
     "output_type": "execute_result"
    },
    {
     "data": {
      "image/png": "[encoded data removed]",
      "text/plain": [
       "<Figure size 864x360 with 1 Axes>"
      ]
     },
     "metadata": {
      "needs_background": "light"
     },
     "output_type": "display_data"
    }
   ],
   "source": [
    "x1_model=list(np.arange(6,17,1))\n",
    "y1_model=[]\n",
    "for element in x1_model:\n",
    "    y1_model.append(a+b*element)\n",
    "fig = plt.figure(figsize=(12,5)) # set fig with its size 10 x 10 inch\n",
    "plt.plot(x1_model,y1_model)\n",
    "plt.scatter(Dataset1[\"Advertising\"],Dataset1['Sales'])\n",
    "plt.xlabel('Advertising of model 1', fontsize=12)\n",
    "plt.ylabel('Sales of model 1', fontsize=12)\n",
    "plt.title('Linear Model with outlayer value of 50', fontsize=18)"
   ]
  },
  {
   "cell_type": "code",
   "execution_count": 125,
   "metadata": {
    "scrolled": false
   },
   "outputs": [
    {
     "data": {
      "text/plain": [
       "Text(0.5, 1.0, 'Linear model without outlayer')"
      ]
     },
     "execution_count": 125,
     "metadata": {},
     "output_type": "execute_result"
    },
    {
     "data": {
      "image/png": "[encoded data removed]",
      "text/plain": [
       "<Figure size 864x360 with 1 Axes>"
      ]
     },
     "metadata": {
      "needs_background": "light"
     },
     "output_type": "display_data"
    }
   ],
   "source": [
    "x2_model=list(np.arange(6,17,1))\n",
    "y2_model=[]\n",
    "for element in x2_model:\n",
    "    y2_model.append(a2+b2*element)\n",
    "fig = plt.figure(figsize=(12,5)) # set fig with its size 10 x 10 inch\n",
    "plt.plot(x2_model,y2_model)\n",
    "plt.scatter(Dataset1[\"Advertising\"],Dataset1['Sales'])\n",
    "plt.xlabel('Advertising', fontsize=12)\n",
    "plt.ylabel('Sales', fontsize=12)\n",
    "plt.title('Linear model without outlayer', fontsize=18)"
   ]
  },
  {
   "cell_type": "code",
   "execution_count": 6,
   "metadata": {},
   "outputs": [],
   "source": [
    "import pandas as pd\n",
    "import matplotlib\n",
    "import matplotlib.pyplot as plt\n",
    "import numpy as np\n",
    "import os\n",
    "import statistics "
   ]
  },
  {
   "cell_type": "markdown",
   "metadata": {},
   "source": [
    "\\begin{align*}\n",
    "T=\\dfrac{(\\overline{X_1}-\\overline{X_2})-D_0} {S_{\\overline{X_1}-\\overline{X_2}}}\n",
    "\\\\[1em]\n",
    "=\\dfrac{(\\overline{X_1}-\\overline{X_2})-D_0} {\\sqrt{\\dfrac{S_1^2}{n_1}+\\dfrac{S_2^2}{n_2} }}\n",
    "\\\\\n",
    "\\\\\n",
    "\\textit{Dado que: }\\quad n=6=n_1=n_2 \\implies\\quad\n",
    "\\dfrac{(\\overline{X_1}-\\overline{X_2})-D_0} {\\sqrt{\\dfrac{S_1^2+S_2^2}{n} }}\n",
    "\\\\[1em]\n",
    "= \\dfrac{(6.666-10.166)} {\\sqrt{\\dfrac{3.888^2+6.472^2}{6} }}\\simeq -1.13551679928\n",
    "\\end{align*}\n"
   ]
  },
  {
   "cell_type": "code",
   "execution_count": 34,
   "metadata": {},
   "outputs": [
    {
     "data": {
      "text/plain": [
       "-1.4077479892761395"
      ]
     },
     "execution_count": 34,
     "metadata": {},
     "output_type": "execute_result"
    }
   ],
   "source": [
    "(6.666-10.1666)/((s2_var+s1_var)/5)"
   ]
  },
  {
   "cell_type": "code",
   "execution_count": 1,
   "metadata": {},
   "outputs": [],
   "source": [
    "Primaria= [7,4,10,6,5,8]\n",
    "Secundaria= [13, 14, 9, 8, 7, 10]"
   ]
  },
  {
   "cell_type": "code",
   "execution_count": 12,
   "metadata": {},
   "outputs": [
    {
     "data": {
      "text/plain": [
       "3.888888888888889"
      ]
     },
     "execution_count": 12,
     "metadata": {},
     "output_type": "execute_result"
    }
   ],
   "source": [
    "np.std(Primaria)**2"
   ]
  },
  {
   "cell_type": "code",
   "execution_count": 13,
   "metadata": {},
   "outputs": [
    {
     "data": {
      "text/plain": [
       "6.472222222222223"
      ]
     },
     "execution_count": 13,
     "metadata": {},
     "output_type": "execute_result"
    }
   ],
   "source": [
    "np.std(Secundaria)**2"
   ]
  },
  {
   "cell_type": "code",
   "execution_count": 25,
   "metadata": {},
   "outputs": [
    {
     "data": {
      "text/plain": [
       "4.666666666666667"
      ]
     },
     "execution_count": 25,
     "metadata": {},
     "output_type": "execute_result"
    }
   ],
   "source": [
    "var_p=[]\n",
    "for i in Primaria:\n",
    "    var_p.append((i-np.mean(Primaria))**2)\n",
    "s1_var=(sum(var_p)/5)\n",
    "s1_var"
   ]
  },
  {
   "cell_type": "code",
   "execution_count": 30,
   "metadata": {},
   "outputs": [
    {
     "data": {
      "text/plain": [
       "7.7666666666666675"
      ]
     },
     "execution_count": 30,
     "metadata": {},
     "output_type": "execute_result"
    }
   ],
   "source": [
    "var_s=[]\n",
    "for i in Secundaria:\n",
    "    var_s.append((i-np.mean(Secundaria))**2)\n",
    "s2_var=(sum(var_s)/5)\n",
    "s2_var"
   ]
  },
  {
   "cell_type": "code",
   "execution_count": null,
   "metadata": {},
   "outputs": [],
   "source": []
  }
 ],
 "metadata": {
  "kernelspec": {
   "display_name": "Python 3",
   "language": "python",
   "name": "python3"
  },
  "language_info": {
   "codemirror_mode": {
    "name": "ipython",
    "version": 3
   },
   "file_extension": ".py",
   "mimetype": "text/x-python",
   "name": "python",
   "nbconvert_exporter": "python",
   "pygments_lexer": "ipython3",
   "version": "3.7.6"
  }
 },
 "nbformat": 4,
 "nbformat_minor": 4
}
